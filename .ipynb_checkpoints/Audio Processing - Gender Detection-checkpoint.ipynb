{
 "cells": [
  {
   "cell_type": "code",
   "execution_count": 1,
   "id": "e9516695",
   "metadata": {},
   "outputs": [],
   "source": [
    "import numpy as np\n",
    "import pandas as pd\n",
    "import matplotlib.pyplot as plt\n",
    "import seaborn as sns\n",
    "import os\n",
    "import librosa\n",
    "%matplotlib inline"
   ]
  },
  {
   "cell_type": "code",
   "execution_count": 2,
   "id": "9d04b56b",
   "metadata": {},
   "outputs": [],
   "source": [
    "metadata = pd.read_csv('C:\\\\Users\\\\Dell\\\\Desktop\\\\Age and gender recognition\\\\vox1_meta.csv')"
   ]
  },
  {
   "cell_type": "code",
   "execution_count": 4,
   "id": "190bad28",
   "metadata": {},
   "outputs": [],
   "source": [
    "metadata = metadata['VoxCeleb1 ID\\tVGGFace1 ID\\tGender\\tNationality\\tSet'].str.split('\\t',expand=True)"
   ]
  },
  {
   "cell_type": "code",
   "execution_count": 6,
   "id": "c825950a",
   "metadata": {},
   "outputs": [],
   "source": [
    "metadata.columns = ['ID','Name','Gender','Country','Set']"
   ]
  },
  {
   "cell_type": "code",
   "execution_count": 8,
   "id": "c60acf23",
   "metadata": {},
   "outputs": [
    {
     "data": {
      "text/plain": [
       "dev     1211\n",
       "test      40\n",
       "Name: Set, dtype: int64"
      ]
     },
     "execution_count": 8,
     "metadata": {},
     "output_type": "execute_result"
    }
   ],
   "source": [
    "metadata['Set'].value_counts()"
   ]
  },
  {
   "cell_type": "code",
   "execution_count": 10,
   "id": "da01e4ca",
   "metadata": {},
   "outputs": [],
   "source": [
    "test_metadata = metadata[metadata['Set']=='test']"
   ]
  },
  {
   "cell_type": "code",
   "execution_count": 12,
   "id": "7cdf60f4",
   "metadata": {},
   "outputs": [],
   "source": [
    "test_metadata = test_metadata.reset_index()\n",
    "test_metadata = test_metadata.drop('index',axis=1)"
   ]
  },
  {
   "cell_type": "code",
   "execution_count": 15,
   "id": "a135e5a2",
   "metadata": {},
   "outputs": [
    {
     "data": {
      "text/html": [
       "<div>\n",
       "<style scoped>\n",
       "    .dataframe tbody tr th:only-of-type {\n",
       "        vertical-align: middle;\n",
       "    }\n",
       "\n",
       "    .dataframe tbody tr th {\n",
       "        vertical-align: top;\n",
       "    }\n",
       "\n",
       "    .dataframe thead th {\n",
       "        text-align: right;\n",
       "    }\n",
       "</style>\n",
       "<table border=\"1\" class=\"dataframe\">\n",
       "  <thead>\n",
       "    <tr style=\"text-align: right;\">\n",
       "      <th></th>\n",
       "      <th>ID</th>\n",
       "      <th>Name</th>\n",
       "      <th>Gender</th>\n",
       "      <th>Country</th>\n",
       "      <th>Set</th>\n",
       "    </tr>\n",
       "  </thead>\n",
       "  <tbody>\n",
       "    <tr>\n",
       "      <th>0</th>\n",
       "      <td>id10270</td>\n",
       "      <td>Eartha_Kitt</td>\n",
       "      <td>f</td>\n",
       "      <td>USA</td>\n",
       "      <td>test</td>\n",
       "    </tr>\n",
       "    <tr>\n",
       "      <th>1</th>\n",
       "      <td>id10271</td>\n",
       "      <td>Ed_Westwick</td>\n",
       "      <td>m</td>\n",
       "      <td>UK</td>\n",
       "      <td>test</td>\n",
       "    </tr>\n",
       "    <tr>\n",
       "      <th>2</th>\n",
       "      <td>id10272</td>\n",
       "      <td>Eddie_Griffin</td>\n",
       "      <td>m</td>\n",
       "      <td>USA</td>\n",
       "      <td>test</td>\n",
       "    </tr>\n",
       "    <tr>\n",
       "      <th>3</th>\n",
       "      <td>id10273</td>\n",
       "      <td>Eddie_Izzard</td>\n",
       "      <td>m</td>\n",
       "      <td>UK</td>\n",
       "      <td>test</td>\n",
       "    </tr>\n",
       "    <tr>\n",
       "      <th>4</th>\n",
       "      <td>id10274</td>\n",
       "      <td>Eddie_Kaye_Thomas</td>\n",
       "      <td>m</td>\n",
       "      <td>USA</td>\n",
       "      <td>test</td>\n",
       "    </tr>\n",
       "    <tr>\n",
       "      <th>5</th>\n",
       "      <td>id10275</td>\n",
       "      <td>Eddie_McClintock</td>\n",
       "      <td>m</td>\n",
       "      <td>USA</td>\n",
       "      <td>test</td>\n",
       "    </tr>\n",
       "    <tr>\n",
       "      <th>6</th>\n",
       "      <td>id10276</td>\n",
       "      <td>Edgar_Wright</td>\n",
       "      <td>m</td>\n",
       "      <td>UK</td>\n",
       "      <td>test</td>\n",
       "    </tr>\n",
       "    <tr>\n",
       "      <th>7</th>\n",
       "      <td>id10277</td>\n",
       "      <td>Eduardo_Noriega</td>\n",
       "      <td>m</td>\n",
       "      <td>Spain</td>\n",
       "      <td>test</td>\n",
       "    </tr>\n",
       "    <tr>\n",
       "      <th>8</th>\n",
       "      <td>id10278</td>\n",
       "      <td>Edward_Asner</td>\n",
       "      <td>m</td>\n",
       "      <td>USA</td>\n",
       "      <td>test</td>\n",
       "    </tr>\n",
       "    <tr>\n",
       "      <th>9</th>\n",
       "      <td>id10279</td>\n",
       "      <td>Efren_Ramirez</td>\n",
       "      <td>m</td>\n",
       "      <td>USA</td>\n",
       "      <td>test</td>\n",
       "    </tr>\n",
       "    <tr>\n",
       "      <th>10</th>\n",
       "      <td>id10280</td>\n",
       "      <td>Elaine_Cassidy</td>\n",
       "      <td>f</td>\n",
       "      <td>Ireland</td>\n",
       "      <td>test</td>\n",
       "    </tr>\n",
       "    <tr>\n",
       "      <th>11</th>\n",
       "      <td>id10281</td>\n",
       "      <td>Elaine_Hendrix</td>\n",
       "      <td>f</td>\n",
       "      <td>USA</td>\n",
       "      <td>test</td>\n",
       "    </tr>\n",
       "    <tr>\n",
       "      <th>12</th>\n",
       "      <td>id10282</td>\n",
       "      <td>Eleanor_Tomlinson</td>\n",
       "      <td>f</td>\n",
       "      <td>UK</td>\n",
       "      <td>test</td>\n",
       "    </tr>\n",
       "    <tr>\n",
       "      <th>13</th>\n",
       "      <td>id10283</td>\n",
       "      <td>Eli_Roth</td>\n",
       "      <td>m</td>\n",
       "      <td>USA</td>\n",
       "      <td>test</td>\n",
       "    </tr>\n",
       "    <tr>\n",
       "      <th>14</th>\n",
       "      <td>id10284</td>\n",
       "      <td>Eli_Wallach</td>\n",
       "      <td>m</td>\n",
       "      <td>USA</td>\n",
       "      <td>test</td>\n",
       "    </tr>\n",
       "    <tr>\n",
       "      <th>15</th>\n",
       "      <td>id10285</td>\n",
       "      <td>Elisabeth_Moss</td>\n",
       "      <td>f</td>\n",
       "      <td>USA</td>\n",
       "      <td>test</td>\n",
       "    </tr>\n",
       "    <tr>\n",
       "      <th>16</th>\n",
       "      <td>id10286</td>\n",
       "      <td>Elle_Fanning</td>\n",
       "      <td>f</td>\n",
       "      <td>USA</td>\n",
       "      <td>test</td>\n",
       "    </tr>\n",
       "    <tr>\n",
       "      <th>17</th>\n",
       "      <td>id10287</td>\n",
       "      <td>Ellen_Burstyn</td>\n",
       "      <td>f</td>\n",
       "      <td>USA</td>\n",
       "      <td>test</td>\n",
       "    </tr>\n",
       "    <tr>\n",
       "      <th>18</th>\n",
       "      <td>id10288</td>\n",
       "      <td>Ellen_Wong</td>\n",
       "      <td>f</td>\n",
       "      <td>Canada</td>\n",
       "      <td>test</td>\n",
       "    </tr>\n",
       "    <tr>\n",
       "      <th>19</th>\n",
       "      <td>id10289</td>\n",
       "      <td>Elodie_Yung</td>\n",
       "      <td>f</td>\n",
       "      <td>France</td>\n",
       "      <td>test</td>\n",
       "    </tr>\n",
       "    <tr>\n",
       "      <th>20</th>\n",
       "      <td>id10290</td>\n",
       "      <td>Emile_Hirsch</td>\n",
       "      <td>m</td>\n",
       "      <td>USA</td>\n",
       "      <td>test</td>\n",
       "    </tr>\n",
       "    <tr>\n",
       "      <th>21</th>\n",
       "      <td>id10291</td>\n",
       "      <td>Emily_Atack</td>\n",
       "      <td>f</td>\n",
       "      <td>UK</td>\n",
       "      <td>test</td>\n",
       "    </tr>\n",
       "    <tr>\n",
       "      <th>22</th>\n",
       "      <td>id10292</td>\n",
       "      <td>Emraan_Hashmi</td>\n",
       "      <td>m</td>\n",
       "      <td>India</td>\n",
       "      <td>test</td>\n",
       "    </tr>\n",
       "    <tr>\n",
       "      <th>23</th>\n",
       "      <td>id10293</td>\n",
       "      <td>Eoin_Macken</td>\n",
       "      <td>m</td>\n",
       "      <td>Ireland</td>\n",
       "      <td>test</td>\n",
       "    </tr>\n",
       "    <tr>\n",
       "      <th>24</th>\n",
       "      <td>id10294</td>\n",
       "      <td>Eric_Braeden</td>\n",
       "      <td>m</td>\n",
       "      <td>USA</td>\n",
       "      <td>test</td>\n",
       "    </tr>\n",
       "    <tr>\n",
       "      <th>25</th>\n",
       "      <td>id10295</td>\n",
       "      <td>Eric_Dane</td>\n",
       "      <td>m</td>\n",
       "      <td>USA</td>\n",
       "      <td>test</td>\n",
       "    </tr>\n",
       "    <tr>\n",
       "      <th>26</th>\n",
       "      <td>id10296</td>\n",
       "      <td>Eric_McCormack</td>\n",
       "      <td>m</td>\n",
       "      <td>USA</td>\n",
       "      <td>test</td>\n",
       "    </tr>\n",
       "    <tr>\n",
       "      <th>27</th>\n",
       "      <td>id10297</td>\n",
       "      <td>Eric_Roberts</td>\n",
       "      <td>m</td>\n",
       "      <td>USA</td>\n",
       "      <td>test</td>\n",
       "    </tr>\n",
       "    <tr>\n",
       "      <th>28</th>\n",
       "      <td>id10298</td>\n",
       "      <td>Erik_Estrada</td>\n",
       "      <td>m</td>\n",
       "      <td>USA</td>\n",
       "      <td>test</td>\n",
       "    </tr>\n",
       "    <tr>\n",
       "      <th>29</th>\n",
       "      <td>id10299</td>\n",
       "      <td>Erin_Andrews</td>\n",
       "      <td>f</td>\n",
       "      <td>USA</td>\n",
       "      <td>test</td>\n",
       "    </tr>\n",
       "    <tr>\n",
       "      <th>30</th>\n",
       "      <td>id10300</td>\n",
       "      <td>Ernest_Borgnine</td>\n",
       "      <td>m</td>\n",
       "      <td>USA</td>\n",
       "      <td>test</td>\n",
       "    </tr>\n",
       "    <tr>\n",
       "      <th>31</th>\n",
       "      <td>id10301</td>\n",
       "      <td>Ernie_Hudson</td>\n",
       "      <td>m</td>\n",
       "      <td>USA</td>\n",
       "      <td>test</td>\n",
       "    </tr>\n",
       "    <tr>\n",
       "      <th>32</th>\n",
       "      <td>id10302</td>\n",
       "      <td>Esai_Morales</td>\n",
       "      <td>m</td>\n",
       "      <td>USA</td>\n",
       "      <td>test</td>\n",
       "    </tr>\n",
       "    <tr>\n",
       "      <th>33</th>\n",
       "      <td>id10303</td>\n",
       "      <td>Estelle_Harris</td>\n",
       "      <td>f</td>\n",
       "      <td>USA</td>\n",
       "      <td>test</td>\n",
       "    </tr>\n",
       "    <tr>\n",
       "      <th>34</th>\n",
       "      <td>id10304</td>\n",
       "      <td>Eugene_Levy</td>\n",
       "      <td>m</td>\n",
       "      <td>Canada</td>\n",
       "      <td>test</td>\n",
       "    </tr>\n",
       "    <tr>\n",
       "      <th>35</th>\n",
       "      <td>id10305</td>\n",
       "      <td>Eugenio_Derbez</td>\n",
       "      <td>m</td>\n",
       "      <td>Mexico</td>\n",
       "      <td>test</td>\n",
       "    </tr>\n",
       "    <tr>\n",
       "      <th>36</th>\n",
       "      <td>id10306</td>\n",
       "      <td>Eva_Green</td>\n",
       "      <td>f</td>\n",
       "      <td>Norway</td>\n",
       "      <td>test</td>\n",
       "    </tr>\n",
       "    <tr>\n",
       "      <th>37</th>\n",
       "      <td>id10307</td>\n",
       "      <td>Eva_Longoria</td>\n",
       "      <td>f</td>\n",
       "      <td>USA</td>\n",
       "      <td>test</td>\n",
       "    </tr>\n",
       "    <tr>\n",
       "      <th>38</th>\n",
       "      <td>id10308</td>\n",
       "      <td>Evanna_Lynch</td>\n",
       "      <td>f</td>\n",
       "      <td>Ireland</td>\n",
       "      <td>test</td>\n",
       "    </tr>\n",
       "    <tr>\n",
       "      <th>39</th>\n",
       "      <td>id10309</td>\n",
       "      <td>Ezra_Miller</td>\n",
       "      <td>m</td>\n",
       "      <td>USA</td>\n",
       "      <td>test</td>\n",
       "    </tr>\n",
       "  </tbody>\n",
       "</table>\n",
       "</div>"
      ],
      "text/plain": [
       "         ID               Name Gender  Country   Set\n",
       "0   id10270        Eartha_Kitt      f      USA  test\n",
       "1   id10271        Ed_Westwick      m       UK  test\n",
       "2   id10272      Eddie_Griffin      m      USA  test\n",
       "3   id10273       Eddie_Izzard      m       UK  test\n",
       "4   id10274  Eddie_Kaye_Thomas      m      USA  test\n",
       "5   id10275   Eddie_McClintock      m      USA  test\n",
       "6   id10276       Edgar_Wright      m       UK  test\n",
       "7   id10277    Eduardo_Noriega      m    Spain  test\n",
       "8   id10278       Edward_Asner      m      USA  test\n",
       "9   id10279      Efren_Ramirez      m      USA  test\n",
       "10  id10280     Elaine_Cassidy      f  Ireland  test\n",
       "11  id10281     Elaine_Hendrix      f      USA  test\n",
       "12  id10282  Eleanor_Tomlinson      f       UK  test\n",
       "13  id10283           Eli_Roth      m      USA  test\n",
       "14  id10284        Eli_Wallach      m      USA  test\n",
       "15  id10285     Elisabeth_Moss      f      USA  test\n",
       "16  id10286       Elle_Fanning      f      USA  test\n",
       "17  id10287      Ellen_Burstyn      f      USA  test\n",
       "18  id10288         Ellen_Wong      f   Canada  test\n",
       "19  id10289        Elodie_Yung      f   France  test\n",
       "20  id10290       Emile_Hirsch      m      USA  test\n",
       "21  id10291        Emily_Atack      f       UK  test\n",
       "22  id10292      Emraan_Hashmi      m    India  test\n",
       "23  id10293        Eoin_Macken      m  Ireland  test\n",
       "24  id10294       Eric_Braeden      m      USA  test\n",
       "25  id10295          Eric_Dane      m      USA  test\n",
       "26  id10296     Eric_McCormack      m      USA  test\n",
       "27  id10297       Eric_Roberts      m      USA  test\n",
       "28  id10298       Erik_Estrada      m      USA  test\n",
       "29  id10299       Erin_Andrews      f      USA  test\n",
       "30  id10300    Ernest_Borgnine      m      USA  test\n",
       "31  id10301       Ernie_Hudson      m      USA  test\n",
       "32  id10302       Esai_Morales      m      USA  test\n",
       "33  id10303     Estelle_Harris      f      USA  test\n",
       "34  id10304        Eugene_Levy      m   Canada  test\n",
       "35  id10305     Eugenio_Derbez      m   Mexico  test\n",
       "36  id10306          Eva_Green      f   Norway  test\n",
       "37  id10307       Eva_Longoria      f      USA  test\n",
       "38  id10308       Evanna_Lynch      f  Ireland  test\n",
       "39  id10309        Ezra_Miller      m      USA  test"
      ]
     },
     "execution_count": 15,
     "metadata": {},
     "output_type": "execute_result"
    }
   ],
   "source": [
    "test_metadata"
   ]
  },
  {
   "cell_type": "code",
   "execution_count": 21,
   "id": "14682a70",
   "metadata": {},
   "outputs": [],
   "source": [
    "global files\n",
    "files = []\n",
    "\n",
    "def folderExploration(fileName):\n",
    "    \n",
    "    try:\n",
    "        if fileName[-3:] == 'wav':\n",
    "            files.append(fileName)\n",
    "            return\n",
    "\n",
    "        directories = os.listdir(fileName)\n",
    "        for i in range(len(directories)):\n",
    "            folderExploration(fileName + '\\\\' + directories[i])\n",
    "    except:\n",
    "        return"
   ]
  },
  {
   "cell_type": "code",
   "execution_count": 23,
   "id": "8fda67f9",
   "metadata": {},
   "outputs": [],
   "source": [
    "folderExploration('C:\\\\Users\\\\Dell\\\\Desktop\\\\Age and gender recognition\\\\vox1_test_wav\\\\wav\\\\')"
   ]
  },
  {
   "cell_type": "code",
   "execution_count": 41,
   "id": "643bf1d0",
   "metadata": {},
   "outputs": [],
   "source": [
    "superset_wav = []\n",
    "for i in range(len(test_metadata)):\n",
    "    files = []\n",
    "    folderName = 'C:\\\\Users\\\\Dell\\\\Desktop\\\\Age and gender recognition\\\\vox1_test_wav\\\\wav\\\\' + test_metadata['ID'][i]\n",
    "    folderExploration(folderName)\n",
    "    for j in range(len(files)):\n",
    "        superset_wav.append([test_metadata['ID'][i],files[j],test_metadata['Name'][i],test_metadata['Gender'][i],test_metadata['Country'][i]])"
   ]
  },
  {
   "cell_type": "code",
   "execution_count": 42,
   "id": "51d13f07",
   "metadata": {},
   "outputs": [],
   "source": [
    "superset_wav = pd.DataFrame(superset_wav)"
   ]
  },
  {
   "cell_type": "code",
   "execution_count": 44,
   "id": "7f9d5e21",
   "metadata": {},
   "outputs": [],
   "source": [
    "superset_wav.columns = ['ID','FilePaths','Name','Gender','Country']"
   ]
  },
  {
   "cell_type": "code",
   "execution_count": 48,
   "id": "0cb82bc8",
   "metadata": {},
   "outputs": [
    {
     "data": {
      "text/html": [
       "<div>\n",
       "<style scoped>\n",
       "    .dataframe tbody tr th:only-of-type {\n",
       "        vertical-align: middle;\n",
       "    }\n",
       "\n",
       "    .dataframe tbody tr th {\n",
       "        vertical-align: top;\n",
       "    }\n",
       "\n",
       "    .dataframe thead th {\n",
       "        text-align: right;\n",
       "    }\n",
       "</style>\n",
       "<table border=\"1\" class=\"dataframe\">\n",
       "  <thead>\n",
       "    <tr style=\"text-align: right;\">\n",
       "      <th></th>\n",
       "      <th>ID</th>\n",
       "      <th>FilePaths</th>\n",
       "      <th>Name</th>\n",
       "      <th>Gender</th>\n",
       "      <th>Country</th>\n",
       "    </tr>\n",
       "  </thead>\n",
       "  <tbody>\n",
       "    <tr>\n",
       "      <th>0</th>\n",
       "      <td>id10270</td>\n",
       "      <td>C:\\Users\\Dell\\Desktop\\Age and gender recogniti...</td>\n",
       "      <td>Eartha_Kitt</td>\n",
       "      <td>f</td>\n",
       "      <td>USA</td>\n",
       "    </tr>\n",
       "    <tr>\n",
       "      <th>1</th>\n",
       "      <td>id10270</td>\n",
       "      <td>C:\\Users\\Dell\\Desktop\\Age and gender recogniti...</td>\n",
       "      <td>Eartha_Kitt</td>\n",
       "      <td>f</td>\n",
       "      <td>USA</td>\n",
       "    </tr>\n",
       "    <tr>\n",
       "      <th>2</th>\n",
       "      <td>id10270</td>\n",
       "      <td>C:\\Users\\Dell\\Desktop\\Age and gender recogniti...</td>\n",
       "      <td>Eartha_Kitt</td>\n",
       "      <td>f</td>\n",
       "      <td>USA</td>\n",
       "    </tr>\n",
       "    <tr>\n",
       "      <th>3</th>\n",
       "      <td>id10270</td>\n",
       "      <td>C:\\Users\\Dell\\Desktop\\Age and gender recogniti...</td>\n",
       "      <td>Eartha_Kitt</td>\n",
       "      <td>f</td>\n",
       "      <td>USA</td>\n",
       "    </tr>\n",
       "    <tr>\n",
       "      <th>4</th>\n",
       "      <td>id10270</td>\n",
       "      <td>C:\\Users\\Dell\\Desktop\\Age and gender recogniti...</td>\n",
       "      <td>Eartha_Kitt</td>\n",
       "      <td>f</td>\n",
       "      <td>USA</td>\n",
       "    </tr>\n",
       "  </tbody>\n",
       "</table>\n",
       "</div>"
      ],
      "text/plain": [
       "        ID                                          FilePaths         Name  \\\n",
       "0  id10270  C:\\Users\\Dell\\Desktop\\Age and gender recogniti...  Eartha_Kitt   \n",
       "1  id10270  C:\\Users\\Dell\\Desktop\\Age and gender recogniti...  Eartha_Kitt   \n",
       "2  id10270  C:\\Users\\Dell\\Desktop\\Age and gender recogniti...  Eartha_Kitt   \n",
       "3  id10270  C:\\Users\\Dell\\Desktop\\Age and gender recogniti...  Eartha_Kitt   \n",
       "4  id10270  C:\\Users\\Dell\\Desktop\\Age and gender recogniti...  Eartha_Kitt   \n",
       "\n",
       "  Gender Country  \n",
       "0      f     USA  \n",
       "1      f     USA  \n",
       "2      f     USA  \n",
       "3      f     USA  \n",
       "4      f     USA  "
      ]
     },
     "execution_count": 48,
     "metadata": {},
     "output_type": "execute_result"
    }
   ],
   "source": [
    "superset_wav.head()"
   ]
  },
  {
   "cell_type": "code",
   "execution_count": 49,
   "id": "ad4492f5",
   "metadata": {},
   "outputs": [],
   "source": [
    "def feature_extracter(fileName):\n",
    "    audio,sample_rate = librosa.load(fileName,res_type='kaiser_fast')\n",
    "    mfcc_features = librosa.feature.mfcc(y=audio,sr=sample_rate,n_mfcc=40)\n",
    "    mfccs_scaled_features = np.mean(mfcc_features.T, axis=0)\n",
    "    \n",
    "    return mfccs_scaled_features"
   ]
  },
  {
   "cell_type": "code",
   "execution_count": 53,
   "id": "c7d3078a",
   "metadata": {},
   "outputs": [],
   "source": [
    "feature = list(feature_extracter(superset_wav['FilePaths'][0]))"
   ]
  },
  {
   "cell_type": "code",
   "execution_count": 55,
   "id": "5e42cdfe",
   "metadata": {},
   "outputs": [],
   "source": [
    "feature_superset = []\n",
    "for i in range(len(superset_wav)):\n",
    "    features = list(feature_extracter(superset_wav['FilePaths'][i]))\n",
    "    features.append(superset_wav['Gender'][i])\n",
    "    feature_superset.append(features)"
   ]
  },
  {
   "cell_type": "code",
   "execution_count": 57,
   "id": "6fd8a6e1",
   "metadata": {},
   "outputs": [],
   "source": [
    "feature_superset = pd.DataFrame(feature_superset)"
   ]
  },
  {
   "cell_type": "code",
   "execution_count": 59,
   "id": "337c1276",
   "metadata": {},
   "outputs": [],
   "source": [
    "df = feature_superset"
   ]
  },
  {
   "cell_type": "code",
   "execution_count": 61,
   "id": "53dfdc7f",
   "metadata": {},
   "outputs": [],
   "source": [
    "col = []\n",
    "for i in range(41):\n",
    "    col.append('Feature_'+str(i))\n",
    "col[-1] = 'Gender'\n",
    "df.columns = col"
   ]
  },
  {
   "cell_type": "code",
   "execution_count": 65,
   "id": "9679bdff",
   "metadata": {},
   "outputs": [
    {
     "data": {
      "text/html": [
       "<div>\n",
       "<style scoped>\n",
       "    .dataframe tbody tr th:only-of-type {\n",
       "        vertical-align: middle;\n",
       "    }\n",
       "\n",
       "    .dataframe tbody tr th {\n",
       "        vertical-align: top;\n",
       "    }\n",
       "\n",
       "    .dataframe thead th {\n",
       "        text-align: right;\n",
       "    }\n",
       "</style>\n",
       "<table border=\"1\" class=\"dataframe\">\n",
       "  <thead>\n",
       "    <tr style=\"text-align: right;\">\n",
       "      <th></th>\n",
       "      <th>Feature_0</th>\n",
       "      <th>Feature_1</th>\n",
       "      <th>Feature_2</th>\n",
       "      <th>Feature_3</th>\n",
       "      <th>Feature_4</th>\n",
       "      <th>Feature_5</th>\n",
       "      <th>Feature_6</th>\n",
       "      <th>Feature_7</th>\n",
       "      <th>Feature_8</th>\n",
       "      <th>Feature_9</th>\n",
       "      <th>...</th>\n",
       "      <th>Feature_31</th>\n",
       "      <th>Feature_32</th>\n",
       "      <th>Feature_33</th>\n",
       "      <th>Feature_34</th>\n",
       "      <th>Feature_35</th>\n",
       "      <th>Feature_36</th>\n",
       "      <th>Feature_37</th>\n",
       "      <th>Feature_38</th>\n",
       "      <th>Feature_39</th>\n",
       "      <th>Gender</th>\n",
       "    </tr>\n",
       "  </thead>\n",
       "  <tbody>\n",
       "    <tr>\n",
       "      <th>0</th>\n",
       "      <td>-344.728180</td>\n",
       "      <td>125.565315</td>\n",
       "      <td>-50.344543</td>\n",
       "      <td>56.644272</td>\n",
       "      <td>-30.757494</td>\n",
       "      <td>21.602602</td>\n",
       "      <td>-18.046799</td>\n",
       "      <td>0.007879</td>\n",
       "      <td>6.332215</td>\n",
       "      <td>-10.466247</td>\n",
       "      <td>...</td>\n",
       "      <td>-2.379534</td>\n",
       "      <td>-3.207082</td>\n",
       "      <td>-1.709163</td>\n",
       "      <td>-0.309435</td>\n",
       "      <td>1.415350</td>\n",
       "      <td>-0.452834</td>\n",
       "      <td>2.761115</td>\n",
       "      <td>1.385196</td>\n",
       "      <td>2.279965</td>\n",
       "      <td>f</td>\n",
       "    </tr>\n",
       "    <tr>\n",
       "      <th>1</th>\n",
       "      <td>-341.251953</td>\n",
       "      <td>131.821259</td>\n",
       "      <td>-37.605339</td>\n",
       "      <td>68.047234</td>\n",
       "      <td>-25.127636</td>\n",
       "      <td>17.090603</td>\n",
       "      <td>-16.919434</td>\n",
       "      <td>-8.422652</td>\n",
       "      <td>-0.290724</td>\n",
       "      <td>-12.176566</td>\n",
       "      <td>...</td>\n",
       "      <td>-5.484684</td>\n",
       "      <td>-6.001855</td>\n",
       "      <td>-5.448941</td>\n",
       "      <td>-4.650704</td>\n",
       "      <td>-1.251520</td>\n",
       "      <td>-0.107292</td>\n",
       "      <td>6.535659</td>\n",
       "      <td>5.007167</td>\n",
       "      <td>5.618969</td>\n",
       "      <td>f</td>\n",
       "    </tr>\n",
       "    <tr>\n",
       "      <th>2</th>\n",
       "      <td>-338.203217</td>\n",
       "      <td>140.601593</td>\n",
       "      <td>-53.845547</td>\n",
       "      <td>65.239899</td>\n",
       "      <td>-36.354431</td>\n",
       "      <td>30.020508</td>\n",
       "      <td>-19.593723</td>\n",
       "      <td>-3.086337</td>\n",
       "      <td>4.472504</td>\n",
       "      <td>-8.622841</td>\n",
       "      <td>...</td>\n",
       "      <td>-5.824691</td>\n",
       "      <td>-3.369779</td>\n",
       "      <td>-2.143421</td>\n",
       "      <td>-2.665762</td>\n",
       "      <td>-1.491421</td>\n",
       "      <td>-3.633098</td>\n",
       "      <td>-1.724314</td>\n",
       "      <td>-4.728678</td>\n",
       "      <td>-2.478197</td>\n",
       "      <td>f</td>\n",
       "    </tr>\n",
       "    <tr>\n",
       "      <th>3</th>\n",
       "      <td>-324.814636</td>\n",
       "      <td>118.227440</td>\n",
       "      <td>-38.814362</td>\n",
       "      <td>59.226776</td>\n",
       "      <td>-24.142466</td>\n",
       "      <td>21.634958</td>\n",
       "      <td>-15.611385</td>\n",
       "      <td>-3.979251</td>\n",
       "      <td>4.024165</td>\n",
       "      <td>-11.159414</td>\n",
       "      <td>...</td>\n",
       "      <td>-1.815642</td>\n",
       "      <td>-0.622149</td>\n",
       "      <td>2.285466</td>\n",
       "      <td>0.533226</td>\n",
       "      <td>1.746203</td>\n",
       "      <td>1.229961</td>\n",
       "      <td>2.566598</td>\n",
       "      <td>0.667442</td>\n",
       "      <td>2.201435</td>\n",
       "      <td>f</td>\n",
       "    </tr>\n",
       "    <tr>\n",
       "      <th>4</th>\n",
       "      <td>-304.143707</td>\n",
       "      <td>129.947083</td>\n",
       "      <td>-41.078918</td>\n",
       "      <td>45.119942</td>\n",
       "      <td>-28.553019</td>\n",
       "      <td>12.000739</td>\n",
       "      <td>-8.314690</td>\n",
       "      <td>-9.372987</td>\n",
       "      <td>2.650269</td>\n",
       "      <td>-11.505147</td>\n",
       "      <td>...</td>\n",
       "      <td>-2.698976</td>\n",
       "      <td>-4.375714</td>\n",
       "      <td>-1.304908</td>\n",
       "      <td>-3.656414</td>\n",
       "      <td>-2.796269</td>\n",
       "      <td>-2.501423</td>\n",
       "      <td>-0.620681</td>\n",
       "      <td>-1.246390</td>\n",
       "      <td>-1.535837</td>\n",
       "      <td>f</td>\n",
       "    </tr>\n",
       "  </tbody>\n",
       "</table>\n",
       "<p>5 rows × 41 columns</p>\n",
       "</div>"
      ],
      "text/plain": [
       "    Feature_0   Feature_1  Feature_2  Feature_3  Feature_4  Feature_5  \\\n",
       "0 -344.728180  125.565315 -50.344543  56.644272 -30.757494  21.602602   \n",
       "1 -341.251953  131.821259 -37.605339  68.047234 -25.127636  17.090603   \n",
       "2 -338.203217  140.601593 -53.845547  65.239899 -36.354431  30.020508   \n",
       "3 -324.814636  118.227440 -38.814362  59.226776 -24.142466  21.634958   \n",
       "4 -304.143707  129.947083 -41.078918  45.119942 -28.553019  12.000739   \n",
       "\n",
       "   Feature_6  Feature_7  Feature_8  Feature_9  ...  Feature_31  Feature_32  \\\n",
       "0 -18.046799   0.007879   6.332215 -10.466247  ...   -2.379534   -3.207082   \n",
       "1 -16.919434  -8.422652  -0.290724 -12.176566  ...   -5.484684   -6.001855   \n",
       "2 -19.593723  -3.086337   4.472504  -8.622841  ...   -5.824691   -3.369779   \n",
       "3 -15.611385  -3.979251   4.024165 -11.159414  ...   -1.815642   -0.622149   \n",
       "4  -8.314690  -9.372987   2.650269 -11.505147  ...   -2.698976   -4.375714   \n",
       "\n",
       "   Feature_33  Feature_34  Feature_35  Feature_36  Feature_37  Feature_38  \\\n",
       "0   -1.709163   -0.309435    1.415350   -0.452834    2.761115    1.385196   \n",
       "1   -5.448941   -4.650704   -1.251520   -0.107292    6.535659    5.007167   \n",
       "2   -2.143421   -2.665762   -1.491421   -3.633098   -1.724314   -4.728678   \n",
       "3    2.285466    0.533226    1.746203    1.229961    2.566598    0.667442   \n",
       "4   -1.304908   -3.656414   -2.796269   -2.501423   -0.620681   -1.246390   \n",
       "\n",
       "   Feature_39  Gender  \n",
       "0    2.279965       f  \n",
       "1    5.618969       f  \n",
       "2   -2.478197       f  \n",
       "3    2.201435       f  \n",
       "4   -1.535837       f  \n",
       "\n",
       "[5 rows x 41 columns]"
      ]
     },
     "execution_count": 65,
     "metadata": {},
     "output_type": "execute_result"
    }
   ],
   "source": [
    "df.head()"
   ]
  },
  {
   "cell_type": "code",
   "execution_count": 81,
   "id": "0db81135",
   "metadata": {},
   "outputs": [],
   "source": [
    "X = df.drop('Gender',axis=1)\n",
    "y = df['Gender']\n",
    "y = pd.get_dummies(y,drop_first=True)"
   ]
  },
  {
   "cell_type": "code",
   "execution_count": 72,
   "id": "ea2afd27",
   "metadata": {},
   "outputs": [],
   "source": [
    "from sklearn.model_selection import train_test_split"
   ]
  },
  {
   "cell_type": "code",
   "execution_count": 73,
   "id": "5cf68b2a",
   "metadata": {},
   "outputs": [],
   "source": [
    "X_train,X_test,y_train,y_test = train_test_split(X,y,test_size=0.2,random_state=101)"
   ]
  },
  {
   "cell_type": "code",
   "execution_count": 75,
   "id": "755e18c7",
   "metadata": {},
   "outputs": [],
   "source": [
    "X_train = X_train.reset_index()\n",
    "X_train = X_train.drop('index',axis=1)\n",
    "\n",
    "X_test = X_test.reset_index()\n",
    "X_test = X_test.drop('index',axis=1)\n",
    "\n",
    "y_train = y_train.reset_index()\n",
    "y_train = y_train.drop('index',axis=1)\n",
    "\n",
    "y_test = y_test.reset_index()\n",
    "y_test = y_test.drop('index',axis=1)"
   ]
  },
  {
   "cell_type": "code",
   "execution_count": 79,
   "id": "b9852b7d",
   "metadata": {},
   "outputs": [
    {
     "name": "stdout",
     "output_type": "stream",
     "text": [
      "(3899, 40)\n",
      "(975, 40)\n",
      "(3899, 1)\n",
      "(975, 1)\n"
     ]
    }
   ],
   "source": [
    "print(X_train.shape)\n",
    "print(X_test.shape)\n",
    "print(y_train.shape)\n",
    "print(y_test.shape)"
   ]
  },
  {
   "cell_type": "markdown",
   "id": "74834436",
   "metadata": {},
   "source": [
    "#### Feature Scaling"
   ]
  },
  {
   "cell_type": "code",
   "execution_count": 80,
   "id": "3c59a873",
   "metadata": {},
   "outputs": [],
   "source": [
    "from sklearn.preprocessing import StandardScaler"
   ]
  },
  {
   "cell_type": "code",
   "execution_count": 82,
   "id": "36b68975",
   "metadata": {},
   "outputs": [],
   "source": [
    "scaler = StandardScaler()\n",
    "X_train = scaler.fit_transform(X_train)\n",
    "X_test = scaler.transform(X_test)"
   ]
  },
  {
   "cell_type": "code",
   "execution_count": 84,
   "id": "b00257b4",
   "metadata": {},
   "outputs": [],
   "source": [
    "X_train = pd.DataFrame(X_train,columns = col[:-1])\n",
    "X_test = pd.DataFrame(X_test,columns = col[:-1])"
   ]
  },
  {
   "cell_type": "markdown",
   "id": "84e668c9",
   "metadata": {},
   "source": [
    "#### Logistic Regression"
   ]
  },
  {
   "cell_type": "code",
   "execution_count": 87,
   "id": "75665a70",
   "metadata": {},
   "outputs": [],
   "source": [
    "from sklearn.linear_model import LogisticRegression"
   ]
  },
  {
   "cell_type": "code",
   "execution_count": 91,
   "id": "c4777471",
   "metadata": {},
   "outputs": [
    {
     "name": "stderr",
     "output_type": "stream",
     "text": [
      "C:\\Users\\Dell\\anaconda3\\lib\\site-packages\\sklearn\\utils\\validation.py:63: DataConversionWarning: A column-vector y was passed when a 1d array was expected. Please change the shape of y to (n_samples, ), for example using ravel().\n",
      "  return f(*args, **kwargs)\n"
     ]
    }
   ],
   "source": [
    "model = LogisticRegression()\n",
    "model.fit(X_train,y_train)\n",
    "pred = model.predict(X_test)"
   ]
  },
  {
   "cell_type": "code",
   "execution_count": 92,
   "id": "e79e800b",
   "metadata": {},
   "outputs": [],
   "source": [
    "from sklearn.metrics import accuracy_score,f1_score,classification_report, confusion_matrix"
   ]
  },
  {
   "cell_type": "code",
   "execution_count": 93,
   "id": "e608701a",
   "metadata": {},
   "outputs": [
    {
     "name": "stdout",
     "output_type": "stream",
     "text": [
      "0.9810771470160117\n",
      "\n",
      "0.9733333333333334\n",
      "\n",
      "[[275   8]\n",
      " [ 18 674]]\n",
      "\n",
      "              precision    recall  f1-score   support\n",
      "\n",
      "           0       0.94      0.97      0.95       283\n",
      "           1       0.99      0.97      0.98       692\n",
      "\n",
      "    accuracy                           0.97       975\n",
      "   macro avg       0.96      0.97      0.97       975\n",
      "weighted avg       0.97      0.97      0.97       975\n",
      "\n"
     ]
    }
   ],
   "source": [
    "print(f1_score(pred,y_test))\n",
    "print()\n",
    "print(accuracy_score(pred,y_test))\n",
    "print()\n",
    "print(confusion_matrix(pred,y_test))\n",
    "print()\n",
    "print(classification_report(pred,y_test))"
   ]
  },
  {
   "cell_type": "markdown",
   "id": "ef10efa8",
   "metadata": {},
   "source": [
    "#### KNN"
   ]
  },
  {
   "cell_type": "code",
   "execution_count": 96,
   "id": "e0bfcdd1",
   "metadata": {},
   "outputs": [],
   "source": [
    "from sklearn.neighbors import KNeighborsClassifier"
   ]
  },
  {
   "cell_type": "code",
   "execution_count": 97,
   "id": "11785d7c",
   "metadata": {},
   "outputs": [
    {
     "name": "stderr",
     "output_type": "stream",
     "text": [
      "C:\\Users\\Dell\\anaconda3\\lib\\site-packages\\sklearn\\neighbors\\_classification.py:179: DataConversionWarning: A column-vector y was passed when a 1d array was expected. Please change the shape of y to (n_samples,), for example using ravel().\n",
      "  return self._fit(X, y)\n"
     ]
    }
   ],
   "source": [
    "model = KNeighborsClassifier()\n",
    "model.fit(X_train,y_train)\n",
    "pred = model.predict(X_test)"
   ]
  },
  {
   "cell_type": "code",
   "execution_count": 98,
   "id": "e33a524e",
   "metadata": {},
   "outputs": [
    {
     "name": "stdout",
     "output_type": "stream",
     "text": [
      "0.9897510980966324\n",
      "\n",
      "0.9856410256410256\n",
      "\n",
      "[[285   6]\n",
      " [  8 676]]\n",
      "\n",
      "              precision    recall  f1-score   support\n",
      "\n",
      "           0       0.97      0.98      0.98       291\n",
      "           1       0.99      0.99      0.99       684\n",
      "\n",
      "    accuracy                           0.99       975\n",
      "   macro avg       0.98      0.98      0.98       975\n",
      "weighted avg       0.99      0.99      0.99       975\n",
      "\n"
     ]
    }
   ],
   "source": [
    "print(f1_score(pred,y_test))\n",
    "print()\n",
    "print(accuracy_score(pred,y_test))\n",
    "print()\n",
    "print(confusion_matrix(pred,y_test))\n",
    "print()\n",
    "print(classification_report(pred,y_test))"
   ]
  },
  {
   "cell_type": "markdown",
   "id": "0ad58eb7",
   "metadata": {},
   "source": [
    "#### SVM"
   ]
  },
  {
   "cell_type": "code",
   "execution_count": 99,
   "id": "66a67f29",
   "metadata": {},
   "outputs": [],
   "source": [
    "from sklearn.svm import SVC"
   ]
  },
  {
   "cell_type": "code",
   "execution_count": 100,
   "id": "12f249b2",
   "metadata": {},
   "outputs": [
    {
     "name": "stderr",
     "output_type": "stream",
     "text": [
      "C:\\Users\\Dell\\anaconda3\\lib\\site-packages\\sklearn\\utils\\validation.py:63: DataConversionWarning: A column-vector y was passed when a 1d array was expected. Please change the shape of y to (n_samples, ), for example using ravel().\n",
      "  return f(*args, **kwargs)\n"
     ]
    }
   ],
   "source": [
    "model = SVC()\n",
    "model.fit(X_train,y_train)\n",
    "pred = model.predict(X_test)"
   ]
  },
  {
   "cell_type": "code",
   "execution_count": 101,
   "id": "7f04c633",
   "metadata": {},
   "outputs": [
    {
     "name": "stdout",
     "output_type": "stream",
     "text": [
      "0.991941391941392\n",
      "\n",
      "0.9887179487179487\n",
      "\n",
      "[[287   5]\n",
      " [  6 677]]\n",
      "\n",
      "              precision    recall  f1-score   support\n",
      "\n",
      "           0       0.98      0.98      0.98       292\n",
      "           1       0.99      0.99      0.99       683\n",
      "\n",
      "    accuracy                           0.99       975\n",
      "   macro avg       0.99      0.99      0.99       975\n",
      "weighted avg       0.99      0.99      0.99       975\n",
      "\n"
     ]
    }
   ],
   "source": [
    "print(f1_score(pred,y_test))\n",
    "print()\n",
    "print(accuracy_score(pred,y_test))\n",
    "print()\n",
    "print(confusion_matrix(pred,y_test))\n",
    "print()\n",
    "print(classification_report(pred,y_test))"
   ]
  },
  {
   "cell_type": "markdown",
   "id": "f668ec5d",
   "metadata": {},
   "source": [
    "#### Decision Tree"
   ]
  },
  {
   "cell_type": "code",
   "execution_count": 102,
   "id": "ba33eee2",
   "metadata": {},
   "outputs": [],
   "source": [
    "from sklearn.tree import DecisionTreeClassifier"
   ]
  },
  {
   "cell_type": "code",
   "execution_count": 103,
   "id": "2aec8eeb",
   "metadata": {},
   "outputs": [],
   "source": [
    "model = DecisionTreeClassifier()\n",
    "model.fit(X_train,y_train)\n",
    "pred = model.predict(X_test)"
   ]
  },
  {
   "cell_type": "code",
   "execution_count": 104,
   "id": "f7bb2772",
   "metadata": {},
   "outputs": [
    {
     "name": "stdout",
     "output_type": "stream",
     "text": [
      "0.9376375641966249\n",
      "\n",
      "0.9128205128205128\n",
      "\n",
      "[[251  43]\n",
      " [ 42 639]]\n",
      "\n",
      "              precision    recall  f1-score   support\n",
      "\n",
      "           0       0.86      0.85      0.86       294\n",
      "           1       0.94      0.94      0.94       681\n",
      "\n",
      "    accuracy                           0.91       975\n",
      "   macro avg       0.90      0.90      0.90       975\n",
      "weighted avg       0.91      0.91      0.91       975\n",
      "\n"
     ]
    }
   ],
   "source": [
    "print(f1_score(pred,y_test))\n",
    "print()\n",
    "print(accuracy_score(pred,y_test))\n",
    "print()\n",
    "print(confusion_matrix(pred,y_test))\n",
    "print()\n",
    "print(classification_report(pred,y_test))"
   ]
  },
  {
   "cell_type": "markdown",
   "id": "c1451d98",
   "metadata": {},
   "source": [
    "#### Bagging Decision Tree"
   ]
  },
  {
   "cell_type": "code",
   "execution_count": 105,
   "id": "09d2fabf",
   "metadata": {},
   "outputs": [],
   "source": [
    "from sklearn.ensemble import BaggingClassifier\n",
    "from sklearn.tree import DecisionTreeClassifier"
   ]
  },
  {
   "cell_type": "code",
   "execution_count": 106,
   "id": "c13ed602",
   "metadata": {},
   "outputs": [
    {
     "name": "stderr",
     "output_type": "stream",
     "text": [
      "C:\\Users\\Dell\\anaconda3\\lib\\site-packages\\sklearn\\utils\\validation.py:63: DataConversionWarning: A column-vector y was passed when a 1d array was expected. Please change the shape of y to (n_samples, ), for example using ravel().\n",
      "  return f(*args, **kwargs)\n"
     ]
    }
   ],
   "source": [
    "model = BaggingClassifier(DecisionTreeClassifier(),max_samples=0.5,max_features=1.0,n_estimators=10)\n",
    "model.fit(X_train, y_train)\n",
    "pred = model.predict(X_test)"
   ]
  },
  {
   "cell_type": "code",
   "execution_count": 107,
   "id": "9e2c0cd1",
   "metadata": {},
   "outputs": [
    {
     "name": "stdout",
     "output_type": "stream",
     "text": [
      "0.9615952732644019\n",
      "\n",
      "0.9466666666666667\n",
      "\n",
      "[[272  31]\n",
      " [ 21 651]]\n",
      "\n",
      "              precision    recall  f1-score   support\n",
      "\n",
      "           0       0.93      0.90      0.91       303\n",
      "           1       0.95      0.97      0.96       672\n",
      "\n",
      "    accuracy                           0.95       975\n",
      "   macro avg       0.94      0.93      0.94       975\n",
      "weighted avg       0.95      0.95      0.95       975\n",
      "\n"
     ]
    }
   ],
   "source": [
    "print(f1_score(pred,y_test))\n",
    "print()\n",
    "print(accuracy_score(pred,y_test))\n",
    "print()\n",
    "print(confusion_matrix(pred,y_test))\n",
    "print()\n",
    "print(classification_report(pred,y_test))"
   ]
  },
  {
   "cell_type": "markdown",
   "id": "f9beff09",
   "metadata": {},
   "source": [
    "#### Boosting Decision Tree"
   ]
  },
  {
   "cell_type": "code",
   "execution_count": 108,
   "id": "fde4308d",
   "metadata": {},
   "outputs": [],
   "source": [
    "from sklearn.ensemble import AdaBoostClassifier\n",
    "from sklearn.tree import DecisionTreeClassifier"
   ]
  },
  {
   "cell_type": "code",
   "execution_count": 109,
   "id": "d138b976",
   "metadata": {},
   "outputs": [
    {
     "name": "stderr",
     "output_type": "stream",
     "text": [
      "C:\\Users\\Dell\\anaconda3\\lib\\site-packages\\sklearn\\utils\\validation.py:63: DataConversionWarning: A column-vector y was passed when a 1d array was expected. Please change the shape of y to (n_samples, ), for example using ravel().\n",
      "  return f(*args, **kwargs)\n"
     ]
    }
   ],
   "source": [
    "model = AdaBoostClassifier(DecisionTreeClassifier(min_samples_split=10,max_depth=4),n_estimators=10,learning_rate=0.6)\n",
    "model.fit(X_train, y_train)\n",
    "pred = model.predict(X_test)"
   ]
  },
  {
   "cell_type": "code",
   "execution_count": 110,
   "id": "0cb2720b",
   "metadata": {},
   "outputs": [
    {
     "name": "stdout",
     "output_type": "stream",
     "text": [
      "0.9624277456647399\n",
      "\n",
      "0.9466666666666667\n",
      "\n",
      "[[257  16]\n",
      " [ 36 666]]\n",
      "\n",
      "              precision    recall  f1-score   support\n",
      "\n",
      "           0       0.88      0.94      0.91       273\n",
      "           1       0.98      0.95      0.96       702\n",
      "\n",
      "    accuracy                           0.95       975\n",
      "   macro avg       0.93      0.95      0.94       975\n",
      "weighted avg       0.95      0.95      0.95       975\n",
      "\n"
     ]
    }
   ],
   "source": [
    "print(f1_score(pred,y_test))\n",
    "print()\n",
    "print(accuracy_score(pred,y_test))\n",
    "print()\n",
    "print(confusion_matrix(pred,y_test))\n",
    "print()\n",
    "print(classification_report(pred,y_test))"
   ]
  },
  {
   "cell_type": "markdown",
   "id": "aad4d138",
   "metadata": {},
   "source": [
    "#### Random Forest Classifier"
   ]
  },
  {
   "cell_type": "code",
   "execution_count": 111,
   "id": "bd548e40",
   "metadata": {},
   "outputs": [],
   "source": [
    "from sklearn.ensemble import RandomForestClassifier"
   ]
  },
  {
   "cell_type": "code",
   "execution_count": 112,
   "id": "9ea0d621",
   "metadata": {},
   "outputs": [
    {
     "name": "stderr",
     "output_type": "stream",
     "text": [
      "C:\\Users\\Dell\\AppData\\Local\\Temp/ipykernel_10556/96710733.py:2: DataConversionWarning: A column-vector y was passed when a 1d array was expected. Please change the shape of y to (n_samples,), for example using ravel().\n",
      "  model.fit(X_train,y_train)\n"
     ]
    }
   ],
   "source": [
    "model = RandomForestClassifier()\n",
    "model.fit(X_train,y_train)\n",
    "pred = model.predict(X_test)"
   ]
  },
  {
   "cell_type": "code",
   "execution_count": 113,
   "id": "4ddc73d3",
   "metadata": {},
   "outputs": [
    {
     "name": "stdout",
     "output_type": "stream",
     "text": [
      "0.9774545454545455\n",
      "\n",
      "0.9682051282051282\n",
      "\n",
      "[[272  10]\n",
      " [ 21 672]]\n",
      "\n",
      "              precision    recall  f1-score   support\n",
      "\n",
      "           0       0.93      0.96      0.95       282\n",
      "           1       0.99      0.97      0.98       693\n",
      "\n",
      "    accuracy                           0.97       975\n",
      "   macro avg       0.96      0.97      0.96       975\n",
      "weighted avg       0.97      0.97      0.97       975\n",
      "\n"
     ]
    }
   ],
   "source": [
    "print(f1_score(pred,y_test))\n",
    "print()\n",
    "print(accuracy_score(pred,y_test))\n",
    "print()\n",
    "print(confusion_matrix(pred,y_test))\n",
    "print()\n",
    "print(classification_report(pred,y_test))"
   ]
  },
  {
   "cell_type": "markdown",
   "id": "d4c15fee",
   "metadata": {},
   "source": [
    "#### Voting Classifier"
   ]
  },
  {
   "cell_type": "code",
   "execution_count": 124,
   "id": "662d11a0",
   "metadata": {},
   "outputs": [],
   "source": [
    "from sklearn.ensemble import VotingClassifier\n",
    "from sklearn.naive_bayes import MultinomialNB\n",
    "from sklearn.linear_model import LogisticRegression\n",
    "from sklearn.ensemble import RandomForestClassifier\n",
    "from sklearn.svm import SVC"
   ]
  },
  {
   "cell_type": "code",
   "execution_count": 125,
   "id": "111defd7",
   "metadata": {},
   "outputs": [],
   "source": [
    "estimator = []\n",
    "\n",
    "estimator.append(('LR',LogisticRegression(max_iter=10000000000000)))\n",
    "estimator.append(('RF',RandomForestClassifier()))\n",
    "estimator.append(('SVM',SVC()))"
   ]
  },
  {
   "cell_type": "code",
   "execution_count": 127,
   "id": "22cb25c5",
   "metadata": {},
   "outputs": [
    {
     "name": "stderr",
     "output_type": "stream",
     "text": [
      "C:\\Users\\Dell\\anaconda3\\lib\\site-packages\\sklearn\\utils\\validation.py:63: DataConversionWarning: A column-vector y was passed when a 1d array was expected. Please change the shape of y to (n_samples, ), for example using ravel().\n",
      "  return f(*args, **kwargs)\n"
     ]
    }
   ],
   "source": [
    "model = VotingClassifier(estimators=estimator,voting = 'hard')\n",
    "model.fit(X_train,y_train)\n",
    "pred = model.predict(X_test)"
   ]
  },
  {
   "cell_type": "code",
   "execution_count": 128,
   "id": "01240090",
   "metadata": {},
   "outputs": [
    {
     "name": "stdout",
     "output_type": "stream",
     "text": [
      "0.9883211678832117\n",
      "\n",
      "0.9835897435897436\n",
      "\n",
      "[[282   5]\n",
      " [ 11 677]]\n",
      "\n",
      "              precision    recall  f1-score   support\n",
      "\n",
      "           0       0.96      0.98      0.97       287\n",
      "           1       0.99      0.98      0.99       688\n",
      "\n",
      "    accuracy                           0.98       975\n",
      "   macro avg       0.98      0.98      0.98       975\n",
      "weighted avg       0.98      0.98      0.98       975\n",
      "\n"
     ]
    }
   ],
   "source": [
    "print(f1_score(pred,y_test))\n",
    "print()\n",
    "print(accuracy_score(pred,y_test))\n",
    "print()\n",
    "print(confusion_matrix(pred,y_test))\n",
    "print()\n",
    "print(classification_report(pred,y_test))"
   ]
  },
  {
   "cell_type": "markdown",
   "id": "483af5a7",
   "metadata": {},
   "source": [
    "#### Neural Network"
   ]
  },
  {
   "cell_type": "code",
   "execution_count": 118,
   "id": "30b35ec3",
   "metadata": {},
   "outputs": [],
   "source": [
    "from keras import layers\n",
    "from keras import models\n",
    "from keras import optimizers\n",
    "from keras import losses\n",
    "from keras import metrics\n",
    "from tensorflow.keras import regularizers\n",
    "import tensorflow as tf\n",
    "from tensorflow.keras.models import Sequential\n",
    "from tensorflow.keras.layers import Dense,Dropout"
   ]
  },
  {
   "cell_type": "code",
   "execution_count": 119,
   "id": "fbe8c8e7",
   "metadata": {},
   "outputs": [
    {
     "data": {
      "text/plain": [
       "(3899, 40)"
      ]
     },
     "execution_count": 119,
     "metadata": {},
     "output_type": "execute_result"
    }
   ],
   "source": [
    "X_train.shape"
   ]
  },
  {
   "cell_type": "code",
   "execution_count": 134,
   "id": "198c2864",
   "metadata": {},
   "outputs": [],
   "source": [
    "# CODE HERE\n",
    "model = Sequential()\n",
    "\n",
    "model.add(Dense(40,activation='relu'))\n",
    "#model.add(Dropout(0.2))\n",
    "#model.add(Dense(20,activation='relu'))\n",
    "#model.add(Dropout(0.2))\n",
    "#model.add(Dense(36,activation='relu'))\n",
    "#model.add(Dropout(0.2))\n",
    "#model.add(Dense(18,activation='relu'))\n",
    "#model.add(Dropout(0.2))\n",
    "#model.add(Dense(9,activation='relu'))\n",
    "#model.add(Dropout(0.2))\n",
    "#model.add(Dense(4,activation='relu'))\n",
    "#model.add(Dropout(0.2))\n",
    "#model.add(Dense(2,activation='relu'))\n",
    "#model.add(Dropout(0.2))\n",
    "\n",
    "model.add(Dense(1,activation='sigmoid'))\n",
    "model.compile(optimizer='rmsprop',loss='binary_crossentropy',metrics=['accuracy'])"
   ]
  },
  {
   "cell_type": "code",
   "execution_count": 135,
   "id": "b788e536",
   "metadata": {},
   "outputs": [
    {
     "name": "stdout",
     "output_type": "stream",
     "text": [
      "Epoch 1/90\n",
      "16/16 [==============================] - 1s 10ms/step - loss: 0.7285 - accuracy: 0.5553 - val_loss: 0.5481 - val_accuracy: 0.7077\n",
      "Epoch 2/90\n",
      "16/16 [==============================] - 0s 3ms/step - loss: 0.4909 - accuracy: 0.7584 - val_loss: 0.4087 - val_accuracy: 0.8287\n",
      "Epoch 3/90\n",
      "16/16 [==============================] - 0s 3ms/step - loss: 0.3808 - accuracy: 0.8453 - val_loss: 0.3251 - val_accuracy: 0.8810\n",
      "Epoch 4/90\n",
      "16/16 [==============================] - 0s 3ms/step - loss: 0.3095 - accuracy: 0.8879 - val_loss: 0.2676 - val_accuracy: 0.9118\n",
      "Epoch 5/90\n",
      "16/16 [==============================] - 0s 3ms/step - loss: 0.2568 - accuracy: 0.9125 - val_loss: 0.2235 - val_accuracy: 0.9303\n",
      "Epoch 6/90\n",
      "16/16 [==============================] - 0s 4ms/step - loss: 0.2153 - accuracy: 0.9315 - val_loss: 0.1894 - val_accuracy: 0.9436\n",
      "Epoch 7/90\n",
      "16/16 [==============================] - 0s 4ms/step - loss: 0.1834 - accuracy: 0.9431 - val_loss: 0.1627 - val_accuracy: 0.9497\n",
      "Epoch 8/90\n",
      "16/16 [==============================] - 0s 4ms/step - loss: 0.1586 - accuracy: 0.9515 - val_loss: 0.1423 - val_accuracy: 0.9579\n",
      "Epoch 9/90\n",
      "16/16 [==============================] - 0s 4ms/step - loss: 0.1393 - accuracy: 0.9569 - val_loss: 0.1270 - val_accuracy: 0.9662\n",
      "Epoch 10/90\n",
      "16/16 [==============================] - 0s 3ms/step - loss: 0.1243 - accuracy: 0.9610 - val_loss: 0.1153 - val_accuracy: 0.9672\n",
      "Epoch 11/90\n",
      "16/16 [==============================] - 0s 4ms/step - loss: 0.1126 - accuracy: 0.9638 - val_loss: 0.1051 - val_accuracy: 0.9692\n",
      "Epoch 12/90\n",
      "16/16 [==============================] - 0s 4ms/step - loss: 0.1034 - accuracy: 0.9659 - val_loss: 0.0969 - val_accuracy: 0.9703\n",
      "Epoch 13/90\n",
      "16/16 [==============================] - 0s 4ms/step - loss: 0.0958 - accuracy: 0.9687 - val_loss: 0.0907 - val_accuracy: 0.9682\n",
      "Epoch 14/90\n",
      "16/16 [==============================] - 0s 4ms/step - loss: 0.0895 - accuracy: 0.9718 - val_loss: 0.0852 - val_accuracy: 0.9733\n",
      "Epoch 15/90\n",
      "16/16 [==============================] - 0s 3ms/step - loss: 0.0846 - accuracy: 0.9733 - val_loss: 0.0822 - val_accuracy: 0.9703\n",
      "Epoch 16/90\n",
      "16/16 [==============================] - 0s 3ms/step - loss: 0.0800 - accuracy: 0.9736 - val_loss: 0.0796 - val_accuracy: 0.9723\n",
      "Epoch 17/90\n",
      "16/16 [==============================] - 0s 4ms/step - loss: 0.0760 - accuracy: 0.9746 - val_loss: 0.0773 - val_accuracy: 0.9723\n",
      "Epoch 18/90\n",
      "16/16 [==============================] - 0s 4ms/step - loss: 0.0724 - accuracy: 0.9764 - val_loss: 0.0733 - val_accuracy: 0.9754\n",
      "Epoch 19/90\n",
      "16/16 [==============================] - 0s 3ms/step - loss: 0.0690 - accuracy: 0.9777 - val_loss: 0.0721 - val_accuracy: 0.9764\n",
      "Epoch 20/90\n",
      "16/16 [==============================] - 0s 3ms/step - loss: 0.0663 - accuracy: 0.9782 - val_loss: 0.0703 - val_accuracy: 0.9744\n",
      "Epoch 21/90\n",
      "16/16 [==============================] - 0s 3ms/step - loss: 0.0635 - accuracy: 0.9795 - val_loss: 0.0693 - val_accuracy: 0.9744\n",
      "Epoch 22/90\n",
      "16/16 [==============================] - 0s 4ms/step - loss: 0.0610 - accuracy: 0.9797 - val_loss: 0.0673 - val_accuracy: 0.9754\n",
      "Epoch 23/90\n",
      "16/16 [==============================] - 0s 4ms/step - loss: 0.0586 - accuracy: 0.9813 - val_loss: 0.0662 - val_accuracy: 0.9754\n",
      "Epoch 24/90\n",
      "16/16 [==============================] - 0s 4ms/step - loss: 0.0565 - accuracy: 0.9815 - val_loss: 0.0641 - val_accuracy: 0.9754\n",
      "Epoch 25/90\n",
      "16/16 [==============================] - 0s 3ms/step - loss: 0.0543 - accuracy: 0.9823 - val_loss: 0.0640 - val_accuracy: 0.9774\n",
      "Epoch 26/90\n",
      "16/16 [==============================] - 0s 4ms/step - loss: 0.0523 - accuracy: 0.9831 - val_loss: 0.0631 - val_accuracy: 0.9774\n",
      "Epoch 27/90\n",
      "16/16 [==============================] - 0s 4ms/step - loss: 0.0505 - accuracy: 0.9836 - val_loss: 0.0625 - val_accuracy: 0.9774\n",
      "Epoch 28/90\n",
      "16/16 [==============================] - 0s 4ms/step - loss: 0.0488 - accuracy: 0.9838 - val_loss: 0.0616 - val_accuracy: 0.9764\n",
      "Epoch 29/90\n",
      "16/16 [==============================] - 0s 4ms/step - loss: 0.0472 - accuracy: 0.9841 - val_loss: 0.0615 - val_accuracy: 0.9754\n",
      "Epoch 30/90\n",
      "16/16 [==============================] - 0s 3ms/step - loss: 0.0455 - accuracy: 0.9862 - val_loss: 0.0585 - val_accuracy: 0.9795\n",
      "Epoch 31/90\n",
      "16/16 [==============================] - 0s 4ms/step - loss: 0.0442 - accuracy: 0.9854 - val_loss: 0.0591 - val_accuracy: 0.9795\n",
      "Epoch 32/90\n",
      "16/16 [==============================] - 0s 3ms/step - loss: 0.0430 - accuracy: 0.9869 - val_loss: 0.0589 - val_accuracy: 0.9795\n",
      "Epoch 33/90\n",
      "16/16 [==============================] - 0s 3ms/step - loss: 0.0417 - accuracy: 0.9872 - val_loss: 0.0606 - val_accuracy: 0.9754\n",
      "Epoch 34/90\n",
      "16/16 [==============================] - 0s 3ms/step - loss: 0.0403 - accuracy: 0.9879 - val_loss: 0.0584 - val_accuracy: 0.9795\n",
      "Epoch 35/90\n",
      "16/16 [==============================] - 0s 3ms/step - loss: 0.0393 - accuracy: 0.9882 - val_loss: 0.0585 - val_accuracy: 0.9785\n",
      "Epoch 36/90\n",
      "16/16 [==============================] - 0s 3ms/step - loss: 0.0379 - accuracy: 0.9887 - val_loss: 0.0573 - val_accuracy: 0.9805\n",
      "Epoch 37/90\n",
      "16/16 [==============================] - 0s 4ms/step - loss: 0.0371 - accuracy: 0.9887 - val_loss: 0.0579 - val_accuracy: 0.9795\n",
      "Epoch 38/90\n",
      "16/16 [==============================] - 0s 3ms/step - loss: 0.0359 - accuracy: 0.9897 - val_loss: 0.0563 - val_accuracy: 0.9795\n",
      "Epoch 39/90\n",
      "16/16 [==============================] - 0s 3ms/step - loss: 0.0348 - accuracy: 0.9897 - val_loss: 0.0577 - val_accuracy: 0.9785\n",
      "Epoch 40/90\n",
      "16/16 [==============================] - 0s 3ms/step - loss: 0.0339 - accuracy: 0.9908 - val_loss: 0.0556 - val_accuracy: 0.9805\n",
      "Epoch 41/90\n",
      "16/16 [==============================] - 0s 4ms/step - loss: 0.0329 - accuracy: 0.9908 - val_loss: 0.0580 - val_accuracy: 0.9764\n",
      "Epoch 42/90\n",
      "16/16 [==============================] - 0s 4ms/step - loss: 0.0318 - accuracy: 0.9918 - val_loss: 0.0554 - val_accuracy: 0.9805\n",
      "Epoch 43/90\n",
      "16/16 [==============================] - 0s 4ms/step - loss: 0.0311 - accuracy: 0.9923 - val_loss: 0.0547 - val_accuracy: 0.9805\n",
      "Epoch 44/90\n",
      "16/16 [==============================] - 0s 4ms/step - loss: 0.0301 - accuracy: 0.9926 - val_loss: 0.0549 - val_accuracy: 0.9805\n",
      "Epoch 45/90\n",
      "16/16 [==============================] - 0s 5ms/step - loss: 0.0294 - accuracy: 0.9923 - val_loss: 0.0560 - val_accuracy: 0.9795\n",
      "Epoch 46/90\n",
      "16/16 [==============================] - 0s 4ms/step - loss: 0.0283 - accuracy: 0.9933 - val_loss: 0.0546 - val_accuracy: 0.9805\n",
      "Epoch 47/90\n",
      "16/16 [==============================] - 0s 3ms/step - loss: 0.0278 - accuracy: 0.9926 - val_loss: 0.0552 - val_accuracy: 0.9805\n",
      "Epoch 48/90\n",
      "16/16 [==============================] - 0s 4ms/step - loss: 0.0268 - accuracy: 0.9928 - val_loss: 0.0551 - val_accuracy: 0.9805\n",
      "Epoch 49/90\n",
      "16/16 [==============================] - 0s 3ms/step - loss: 0.0260 - accuracy: 0.9933 - val_loss: 0.0547 - val_accuracy: 0.9815\n",
      "Epoch 50/90\n",
      "16/16 [==============================] - 0s 3ms/step - loss: 0.0252 - accuracy: 0.9938 - val_loss: 0.0527 - val_accuracy: 0.9815\n",
      "Epoch 51/90\n",
      "16/16 [==============================] - 0s 4ms/step - loss: 0.0245 - accuracy: 0.9931 - val_loss: 0.0564 - val_accuracy: 0.9774\n",
      "Epoch 52/90\n",
      "16/16 [==============================] - 0s 3ms/step - loss: 0.0238 - accuracy: 0.9938 - val_loss: 0.0533 - val_accuracy: 0.9805\n",
      "Epoch 53/90\n",
      "16/16 [==============================] - 0s 3ms/step - loss: 0.0232 - accuracy: 0.9949 - val_loss: 0.0533 - val_accuracy: 0.9805\n",
      "Epoch 54/90\n",
      "16/16 [==============================] - 0s 3ms/step - loss: 0.0224 - accuracy: 0.9949 - val_loss: 0.0540 - val_accuracy: 0.9785\n",
      "Epoch 55/90\n",
      "16/16 [==============================] - 0s 3ms/step - loss: 0.0219 - accuracy: 0.9946 - val_loss: 0.0546 - val_accuracy: 0.9785\n",
      "Epoch 56/90\n",
      "16/16 [==============================] - 0s 3ms/step - loss: 0.0210 - accuracy: 0.9949 - val_loss: 0.0531 - val_accuracy: 0.9815\n",
      "Epoch 57/90\n",
      "16/16 [==============================] - 0s 3ms/step - loss: 0.0206 - accuracy: 0.9954 - val_loss: 0.0545 - val_accuracy: 0.9774\n",
      "Epoch 58/90\n",
      "16/16 [==============================] - 0s 4ms/step - loss: 0.0198 - accuracy: 0.9956 - val_loss: 0.0559 - val_accuracy: 0.9795\n",
      "Epoch 59/90\n",
      "16/16 [==============================] - 0s 3ms/step - loss: 0.0192 - accuracy: 0.9959 - val_loss: 0.0511 - val_accuracy: 0.9826\n",
      "Epoch 60/90\n",
      "16/16 [==============================] - 0s 4ms/step - loss: 0.0187 - accuracy: 0.9967 - val_loss: 0.0525 - val_accuracy: 0.9795\n",
      "Epoch 61/90\n",
      "16/16 [==============================] - 0s 3ms/step - loss: 0.0182 - accuracy: 0.9956 - val_loss: 0.0525 - val_accuracy: 0.9805\n",
      "Epoch 62/90\n",
      "16/16 [==============================] - 0s 4ms/step - loss: 0.0178 - accuracy: 0.9964 - val_loss: 0.0512 - val_accuracy: 0.9826\n",
      "Epoch 63/90\n",
      "16/16 [==============================] - 0s 4ms/step - loss: 0.0171 - accuracy: 0.9967 - val_loss: 0.0520 - val_accuracy: 0.9846\n",
      "Epoch 64/90\n",
      "16/16 [==============================] - 0s 4ms/step - loss: 0.0167 - accuracy: 0.9964 - val_loss: 0.0516 - val_accuracy: 0.9826\n",
      "Epoch 65/90\n",
      "16/16 [==============================] - 0s 4ms/step - loss: 0.0162 - accuracy: 0.9969 - val_loss: 0.0532 - val_accuracy: 0.9805\n",
      "Epoch 66/90\n",
      "16/16 [==============================] - 0s 3ms/step - loss: 0.0158 - accuracy: 0.9967 - val_loss: 0.0530 - val_accuracy: 0.9795\n",
      "Epoch 67/90\n",
      "16/16 [==============================] - 0s 4ms/step - loss: 0.0151 - accuracy: 0.9972 - val_loss: 0.0509 - val_accuracy: 0.9826\n",
      "Epoch 68/90\n",
      "16/16 [==============================] - 0s 3ms/step - loss: 0.0148 - accuracy: 0.9969 - val_loss: 0.0509 - val_accuracy: 0.9815\n",
      "Epoch 69/90\n",
      "16/16 [==============================] - 0s 3ms/step - loss: 0.0142 - accuracy: 0.9977 - val_loss: 0.0539 - val_accuracy: 0.9785\n",
      "Epoch 70/90\n",
      "16/16 [==============================] - 0s 3ms/step - loss: 0.0137 - accuracy: 0.9972 - val_loss: 0.0504 - val_accuracy: 0.9815\n",
      "Epoch 71/90\n",
      "16/16 [==============================] - 0s 3ms/step - loss: 0.0135 - accuracy: 0.9977 - val_loss: 0.0522 - val_accuracy: 0.9805\n",
      "Epoch 72/90\n",
      "16/16 [==============================] - 0s 3ms/step - loss: 0.0129 - accuracy: 0.9979 - val_loss: 0.0506 - val_accuracy: 0.9815\n",
      "Epoch 73/90\n",
      "16/16 [==============================] - 0s 3ms/step - loss: 0.0124 - accuracy: 0.9977 - val_loss: 0.0505 - val_accuracy: 0.9815\n",
      "Epoch 74/90\n",
      "16/16 [==============================] - 0s 3ms/step - loss: 0.0121 - accuracy: 0.9979 - val_loss: 0.0500 - val_accuracy: 0.9826\n",
      "Epoch 75/90\n",
      "16/16 [==============================] - 0s 3ms/step - loss: 0.0118 - accuracy: 0.9977 - val_loss: 0.0503 - val_accuracy: 0.9815\n",
      "Epoch 76/90\n",
      "16/16 [==============================] - 0s 5ms/step - loss: 0.0113 - accuracy: 0.9985 - val_loss: 0.0521 - val_accuracy: 0.9795\n",
      "Epoch 77/90\n",
      "16/16 [==============================] - 0s 3ms/step - loss: 0.0110 - accuracy: 0.9987 - val_loss: 0.0536 - val_accuracy: 0.9785\n",
      "Epoch 78/90\n",
      "16/16 [==============================] - 0s 3ms/step - loss: 0.0105 - accuracy: 0.9982 - val_loss: 0.0489 - val_accuracy: 0.9826\n",
      "Epoch 79/90\n",
      "16/16 [==============================] - 0s 4ms/step - loss: 0.0102 - accuracy: 0.9982 - val_loss: 0.0515 - val_accuracy: 0.9815\n",
      "Epoch 80/90\n",
      "16/16 [==============================] - 0s 4ms/step - loss: 0.0099 - accuracy: 0.9992 - val_loss: 0.0522 - val_accuracy: 0.9805\n",
      "Epoch 81/90\n",
      "16/16 [==============================] - 0s 4ms/step - loss: 0.0094 - accuracy: 0.9990 - val_loss: 0.0516 - val_accuracy: 0.9815\n",
      "Epoch 82/90\n",
      "16/16 [==============================] - 0s 4ms/step - loss: 0.0093 - accuracy: 0.9990 - val_loss: 0.0535 - val_accuracy: 0.9785\n",
      "Epoch 83/90\n",
      "16/16 [==============================] - 0s 4ms/step - loss: 0.0089 - accuracy: 0.9992 - val_loss: 0.0516 - val_accuracy: 0.9815\n",
      "Epoch 84/90\n",
      "16/16 [==============================] - 0s 4ms/step - loss: 0.0086 - accuracy: 0.9992 - val_loss: 0.0506 - val_accuracy: 0.9826\n",
      "Epoch 85/90\n",
      "16/16 [==============================] - 0s 3ms/step - loss: 0.0083 - accuracy: 0.9992 - val_loss: 0.0512 - val_accuracy: 0.9826\n",
      "Epoch 86/90\n",
      "16/16 [==============================] - 0s 4ms/step - loss: 0.0079 - accuracy: 0.9995 - val_loss: 0.0541 - val_accuracy: 0.9785\n",
      "Epoch 87/90\n",
      "16/16 [==============================] - 0s 4ms/step - loss: 0.0077 - accuracy: 0.9992 - val_loss: 0.0522 - val_accuracy: 0.9815\n",
      "Epoch 88/90\n",
      "16/16 [==============================] - 0s 3ms/step - loss: 0.0074 - accuracy: 0.9995 - val_loss: 0.0493 - val_accuracy: 0.9826\n",
      "Epoch 89/90\n",
      "16/16 [==============================] - 0s 3ms/step - loss: 0.0071 - accuracy: 0.9995 - val_loss: 0.0522 - val_accuracy: 0.9805\n",
      "Epoch 90/90\n",
      "16/16 [==============================] - 0s 3ms/step - loss: 0.0069 - accuracy: 0.9995 - val_loss: 0.0513 - val_accuracy: 0.9826\n"
     ]
    },
    {
     "data": {
      "text/plain": [
       "<keras.callbacks.History at 0x169efd67310>"
      ]
     },
     "execution_count": 135,
     "metadata": {},
     "output_type": "execute_result"
    }
   ],
   "source": [
    "model.fit(X_train,y_train,epochs=90,batch_size=256,validation_data=(X_test,y_test))"
   ]
  },
  {
   "cell_type": "code",
   "execution_count": 136,
   "id": "1642a61f",
   "metadata": {},
   "outputs": [
    {
     "data": {
      "text/plain": [
       "<AxesSubplot:>"
      ]
     },
     "execution_count": 136,
     "metadata": {},
     "output_type": "execute_result"
    },
    {
     "data": {
      "image/png": "[encoded data removed]",
      "text/plain": [
       "<Figure size 432x288 with 1 Axes>"
      ]
     },
     "metadata": {
      "needs_background": "light"
     },
     "output_type": "display_data"
    }
   ],
   "source": [
    "# CODE HERE\n",
    "losses = pd.DataFrame(model.history.history)\n",
    "losses[['val_loss','loss']].plot()"
   ]
  },
  {
   "cell_type": "code",
   "execution_count": 133,
   "id": "24f33a5e",
   "metadata": {},
   "outputs": [
    {
     "name": "stdout",
     "output_type": "stream",
     "text": [
      "0.9883211678832117\n",
      "\n",
      "0.9835897435897436\n",
      "\n",
      "[[282   5]\n",
      " [ 11 677]]\n",
      "\n",
      "              precision    recall  f1-score   support\n",
      "\n",
      "           0       0.96      0.98      0.97       287\n",
      "           1       0.99      0.98      0.99       688\n",
      "\n",
      "    accuracy                           0.98       975\n",
      "   macro avg       0.98      0.98      0.98       975\n",
      "weighted avg       0.98      0.98      0.98       975\n",
      "\n"
     ]
    }
   ],
   "source": [
    "print(f1_score(pred,y_test))\n",
    "print()\n",
    "print(accuracy_score(pred,y_test))\n",
    "print()\n",
    "print(confusion_matrix(pred,y_test))\n",
    "print()\n",
    "print(classification_report(pred,y_test))"
   ]
  },
  {
   "cell_type": "code",
   "execution_count": 158,
   "id": "88b17194",
   "metadata": {},
   "outputs": [],
   "source": [
    "fileName = 'C:\\\\Users\\\\Dell\\\\Documents\\\\Sound recordings\\\\Recording.wav'"
   ]
  },
  {
   "cell_type": "code",
   "execution_count": 163,
   "id": "ad903b89",
   "metadata": {},
   "outputs": [],
   "source": [
    "fileName = 'ajay-devgn-amitabh-bachchan-interview-runway-34_dXzdyqDv.wav'"
   ]
  },
  {
   "cell_type": "code",
   "execution_count": 166,
   "id": "d6060036",
   "metadata": {},
   "outputs": [],
   "source": [
    "fileName = 'ajay-devgn-amitabh-bachchan-interview-runway-34_kUMM6fz6.wav'"
   ]
  },
  {
   "cell_type": "code",
   "execution_count": 167,
   "id": "3cd0d748",
   "metadata": {},
   "outputs": [],
   "source": [
    "def predictNew(fileName):\n",
    "    \n",
    "    X_val = pd.DataFrame([feature_extracter(fileName)],columns=col[:-1])\n",
    "    X_val = scaler.transform(X_val)\n",
    "    X_val = pd.DataFrame(X_val,columns=col[:-1])\n",
    "    pred = (model.predict(X_val) > 0.5).astype(\"int32\")\n",
    "    \n",
    "    return 'Male' if int(pred) == 1 else 'Female'"
   ]
  },
  {
   "cell_type": "code",
   "execution_count": 168,
   "id": "693f9958",
   "metadata": {},
   "outputs": [
    {
     "name": "stdout",
     "output_type": "stream",
     "text": [
      "1/1 [==============================] - 0s 18ms/step\n"
     ]
    },
    {
     "data": {
      "text/plain": [
       "'Male'"
      ]
     },
     "execution_count": 168,
     "metadata": {},
     "output_type": "execute_result"
    }
   ],
   "source": [
    "predictNew(fileName)"
   ]
  },
  {
   "cell_type": "code",
   "execution_count": null,
   "id": "9d1d2adc",
   "metadata": {},
   "outputs": [],
   "source": []
  }
 ],
 "metadata": {
  "kernelspec": {
   "display_name": "Python 3 (ipykernel)",
   "language": "python",
   "name": "python3"
  },
  "language_info": {
   "codemirror_mode": {
    "name": "ipython",
    "version": 3
   },
   "file_extension": ".py",
   "mimetype": "text/x-python",
   "name": "python",
   "nbconvert_exporter": "python",
   "pygments_lexer": "ipython3",
   "version": "3.9.7"
  }
 },
 "nbformat": 4,
 "nbformat_minor": 5
}
